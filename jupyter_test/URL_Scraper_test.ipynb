{
 "cells": [
  {
   "cell_type": "code",
   "execution_count": 7,
   "id": "bc88458d",
   "metadata": {},
   "outputs": [],
   "source": [
    "areas_of_UK = [\"London\", \"South East England\", \"East Midlands\", \"East of England\", \"North East England\", \"North West England\", \"South West England\", \"West Midlands\", \"Yorkshire and The Humber\", \"Isle of Man\", \"Channel Isles\", \"Scotland\", \"Wales\", \"Northern Ireland\"]"
   ]
  },
  {
   "cell_type": "code",
   "execution_count": 13,
   "id": "f1d82a84",
   "metadata": {},
   "outputs": [
    {
     "name": "stdout",
     "output_type": "stream",
     "text": [
      "London\n",
      "South East England\n",
      "East Midlands\n",
      "East of England\n",
      "North East England\n",
      "North West England\n",
      "South West England\n",
      "West Midlands\n",
      "Yorkshire and The Humber\n",
      "Isle of Man\n",
      "Channel Isles\n",
      "Scotland\n",
      "Wales\n",
      "Northern Ireland\n"
     ]
    }
   ],
   "source": [
    "def scrape_URLs_for_region(region):\n",
    "    url = f\"https://www.zoopla.co.uk/to-rent/property/london/?page_size=25&price_frequency=per_month&q=london&radius=0&results_sort=newest_listings&pn=2#listing_58997893\"\n",
    "    return region\n",
    "\n",
    "def find(number_to_find=None):\n",
    "    # finds URLs and saves them to the DB.\n",
    "    for region in areas_of_UK:\n",
    "        scrape_URLs_for_region(region)\n",
    "    \n",
    "\n",
    "\n",
    "find()    "
   ]
  },
  {
   "cell_type": "code",
   "execution_count": 14,
   "id": "f5c0c486",
   "metadata": {},
   "outputs": [],
   "source": []
  },
  {
   "cell_type": "code",
   "execution_count": 16,
   "id": "053fcc2b",
   "metadata": {},
   "outputs": [],
   "source": [
    "from bs4 import BeautifulSoup\n",
    "import requests\n"
   ]
  },
  {
   "cell_type": "code",
   "execution_count": 28,
   "id": "4d2445c3",
   "metadata": {},
   "outputs": [
    {
     "name": "stdout",
     "output_type": "stream",
     "text": [
      "https://www.zoopla.co.uk/to-rent/property/London/?page_size=50&price_frequency=per_month&q=London&radius=0&results_sort=newest_listings&pn=6111\n"
     ]
    }
   ],
   "source": [
    "\n",
    "url = f\"https://www.zoopla.co.uk/to-rent/property/London/?page_size=50&price_frequency=per_month&q=London&radius=0&results_sort=newest_listings&pn=6111\"\n",
    "print(url)\n",
    "\n",
    "page = requests.get(url)\n",
    "soup = BeautifulSoup(page.content)\n",
    "\n",
    "urls = [item for item in soup.find_all('a', attrs={'data-testid' : True}) if item['data-testid']=='listing-details-link']\n",
    "for a in urls:\n",
    "    print(a['href'])"
   ]
  },
  {
   "cell_type": "code",
   "execution_count": null,
   "id": "fd7f1798",
   "metadata": {},
   "outputs": [],
   "source": []
  }
 ],
 "metadata": {
  "kernelspec": {
   "display_name": "Python 3",
   "language": "python",
   "name": "python3"
  },
  "language_info": {
   "codemirror_mode": {
    "name": "ipython",
    "version": 3
   },
   "file_extension": ".py",
   "mimetype": "text/x-python",
   "name": "python",
   "nbconvert_exporter": "python",
   "pygments_lexer": "ipython3",
   "version": "3.7.8"
  }
 },
 "nbformat": 4,
 "nbformat_minor": 5
}
